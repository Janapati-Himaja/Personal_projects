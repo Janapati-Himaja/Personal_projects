{
  "nbformat": 4,
  "nbformat_minor": 0,
  "metadata": {
    "colab": {
      "provenance": [],
      "authorship_tag": "ABX9TyMT5yzrYdlzo1EY30SJTAgj",
      "include_colab_link": true
    },
    "kernelspec": {
      "name": "python3",
      "display_name": "Python 3"
    },
    "language_info": {
      "name": "python"
    }
  },
  "cells": [
    {
      "cell_type": "markdown",
      "metadata": {
        "id": "view-in-github",
        "colab_type": "text"
      },
      "source": [
        "<a href=\"https://colab.research.google.com/github/Janapati-Himaja/Personal_projects/blob/main/Guess_the_celebrity.ipynb\" target=\"_parent\"><img src=\"https://colab.research.google.com/assets/colab-badge.svg\" alt=\"Open In Colab\"/></a>"
      ]
    },
    {
      "cell_type": "code",
      "execution_count": 1,
      "metadata": {
        "colab": {
          "base_uri": "https://localhost:8080/"
        },
        "id": "rEtHh8qKYkqd",
        "outputId": "03fb828e-44ae-4068-9a7c-971e8d8ce269"
      },
      "outputs": [
        {
          "output_type": "stream",
          "name": "stdout",
          "text": [
            "Enter your name to start the game:\n",
            "himaja\n",
            "Lets start the game\n",
            "1.occupation\n",
            "2.age\n",
            "3.marrital  status\n",
            "4.nationality\n",
            "5.awards and honours\n",
            "select a number from above options:\n",
            "1\n",
            "industrialist\n",
            "type yes if you can guess:\n",
            "no\n",
            "select a number from above options:\n",
            "2\n",
            "85\n",
            "type yes if you can guess:\n",
            "ratan tata\n",
            "select a number from above options:\n",
            "3\n",
            "unmarried\n",
            "type yes if you can guess:\n",
            "yes\n",
            "enter your guess:\n",
            "ratan tata\n",
            "himaja you win\n",
            "Congratulations\n"
          ]
        }
      ],
      "source": [
        "#can add more people and info about them..\n",
        "import random\n",
        "dic={'ratan tata':['industrialist','85','unmarried','indian','padma vibhushan'],\n",
        "     'rama krishna parama hamsa':['spiritual leader','50','married','indian','none'],\n",
        "     'amitab bachan':['actor','80','married','indian','padmasri and padma vibhushan']}\n",
        "key,item=random.choice(list(dic.items()))\n",
        "print(\"Enter your name to start the game:\")\n",
        "n=input()\n",
        "print(\"Lets start the game\")\n",
        "print('1.occupation')\n",
        "print('2.age')\n",
        "print('3.marrital  status')\n",
        "print('4.nationality')\n",
        "print('5.awards and honours')\n",
        "for i in range(5):\n",
        "    print('select a number from above options:')\n",
        "    k=int(input())\n",
        "    print(item[k-1])\n",
        "    print(\"type yes if you can guess:\")\n",
        "    l=input()\n",
        "    if l.lower()=='yes':\n",
        "        print(\"enter your guess:\")\n",
        "        j=input()\n",
        "        if j.lower()==key:\n",
        "            print(n,\"you win\")\n",
        "            print(\"Congratulations\")\n",
        "            break\n",
        "        else:\n",
        "            print(\"your guess is not correct,continue the game by selecting another option\")\n",
        "    else:\n",
        "        continue"
      ]
    }
  ]
}